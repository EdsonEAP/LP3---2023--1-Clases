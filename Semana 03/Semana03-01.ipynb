{
 "cells": [
  {
   "cell_type": "markdown",
   "id": "664237d3",
   "metadata": {},
   "source": [
    "# Semana03\n",
    "Edson Emanuel Alvarado Prieto"
   ]
  },
  {
   "cell_type": "raw",
   "id": "c68b103a",
   "metadata": {},
   "source": [
    "Temas:\n",
    "    1.Números\n",
    "    2.Variables\n",
    "    3.Manejo de cadenas\n",
    "    4.Ingreso de datos\n",
    "    5.Operadores"
   ]
  },
  {
   "cell_type": "raw",
   "id": "1e51a980",
   "metadata": {},
   "source": [
    "# 1.Números"
   ]
  },
  {
   "cell_type": "code",
   "execution_count": null,
   "id": "969bc508",
   "metadata": {},
   "outputs": [],
   "source": []
  }
 ],
 "metadata": {
  "kernelspec": {
   "display_name": "Python 3 (ipykernel)",
   "language": "python",
   "name": "python3"
  },
  "language_info": {
   "codemirror_mode": {
    "name": "ipython",
    "version": 3
   },
   "file_extension": ".py",
   "mimetype": "text/x-python",
   "name": "python",
   "nbconvert_exporter": "python",
   "pygments_lexer": "ipython3",
   "version": "3.9.12"
  }
 },
 "nbformat": 4,
 "nbformat_minor": 5
}
