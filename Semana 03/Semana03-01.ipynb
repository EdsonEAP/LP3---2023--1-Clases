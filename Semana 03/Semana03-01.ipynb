{
 "cells": [
  {
   "cell_type": "markdown",
   "id": "e347be67",
   "metadata": {},
   "source": [
    "# Semana03\n",
    "Edson Emanuel Alvarado Prieto"
   ]
  },
  {
   "cell_type": "raw",
   "id": "eac8c580",
   "metadata": {},
   "source": [
    "Temas:\n",
    "    1.Números\n",
    "    2.Variables\n",
    "    3.Manejo de cadenas\n",
    "    4.Ingreso de datos\n",
    "    5.Operadores"
   ]
  },
  {
   "cell_type": "raw",
   "id": "a9c6995f",
   "metadata": {},
   "source": [
    "# 1.Números"
   ]
  },
  {
   "cell_type": "code",
   "execution_count": 5,
   "id": "d501d9d2",
   "metadata": {},
   "outputs": [],
   "source": [
    "#Siempre deben iniciar"
   ]
  },
  {
   "cell_type": "code",
   "execution_count": 6,
   "id": "1b26617f",
   "metadata": {},
   "outputs": [],
   "source": [
    "edad = 19"
   ]
  },
  {
   "cell_type": "code",
   "execution_count": 7,
   "id": "1c9054f1",
   "metadata": {},
   "outputs": [
    {
     "data": {
      "text/plain": [
       "19"
      ]
     },
     "execution_count": 7,
     "metadata": {},
     "output_type": "execute_result"
    }
   ],
   "source": [
    "edad"
   ]
  },
  {
   "cell_type": "code",
   "execution_count": null,
   "id": "860f1819",
   "metadata": {},
   "outputs": [],
   "source": []
  },
  {
   "cell_type": "code",
   "execution_count": 8,
   "id": "7723e315",
   "metadata": {},
   "outputs": [],
   "source": [
    "nombre = \"edson\""
   ]
  },
  {
   "cell_type": "code",
   "execution_count": 9,
   "id": "944a2e56",
   "metadata": {},
   "outputs": [
    {
     "data": {
      "text/plain": [
       "'edson'"
      ]
     },
     "execution_count": 9,
     "metadata": {},
     "output_type": "execute_result"
    }
   ],
   "source": [
    "nombre"
   ]
  },
  {
   "cell_type": "code",
   "execution_count": 10,
   "id": "88efb44d",
   "metadata": {},
   "outputs": [],
   "source": [
    "apellido = \"Alvarado\""
   ]
  },
  {
   "cell_type": "code",
   "execution_count": 11,
   "id": "0574a2d4",
   "metadata": {},
   "outputs": [
    {
     "data": {
      "text/plain": [
       "'Alvarado'"
      ]
     },
     "execution_count": 11,
     "metadata": {},
     "output_type": "execute_result"
    }
   ],
   "source": [
    "apellido"
   ]
  },
  {
   "cell_type": "code",
   "execution_count": 12,
   "id": "0a7936c4",
   "metadata": {},
   "outputs": [
    {
     "data": {
      "text/plain": [
       "'edsonAlvarado'"
      ]
     },
     "execution_count": 12,
     "metadata": {},
     "output_type": "execute_result"
    }
   ],
   "source": [
    "nombre + apellido"
   ]
  },
  {
   "cell_type": "code",
   "execution_count": 13,
   "id": "df856b68",
   "metadata": {},
   "outputs": [
    {
     "ename": "SyntaxError",
     "evalue": "invalid syntax (2659981133.py, line 1)",
     "output_type": "error",
     "traceback": [
      "\u001b[1;36m  Input \u001b[1;32mIn [13]\u001b[1;36m\u001b[0m\n\u001b[1;33m    nombre completo = nombre + \" \" + apellido\u001b[0m\n\u001b[1;37m           ^\u001b[0m\n\u001b[1;31mSyntaxError\u001b[0m\u001b[1;31m:\u001b[0m invalid syntax\n"
     ]
    }
   ],
   "source": [
    "nombre completo = nombre + \" \" + apellido"
   ]
  },
  {
   "cell_type": "code",
   "execution_count": 14,
   "id": "0ece518d",
   "metadata": {},
   "outputs": [
    {
     "ename": "SyntaxError",
     "evalue": "invalid syntax (3830219574.py, line 1)",
     "output_type": "error",
     "traceback": [
      "\u001b[1;36m  Input \u001b[1;32mIn [14]\u001b[1;36m\u001b[0m\n\u001b[1;33m    nombre completo = nombre +  + apellido\u001b[0m\n\u001b[1;37m           ^\u001b[0m\n\u001b[1;31mSyntaxError\u001b[0m\u001b[1;31m:\u001b[0m invalid syntax\n"
     ]
    }
   ],
   "source": [
    "nombre completo = nombre +  + apellido"
   ]
  },
  {
   "cell_type": "code",
   "execution_count": 15,
   "id": "4d4c314a",
   "metadata": {},
   "outputs": [
    {
     "ename": "SyntaxError",
     "evalue": "invalid syntax (3170486535.py, line 1)",
     "output_type": "error",
     "traceback": [
      "\u001b[1;36m  Input \u001b[1;32mIn [15]\u001b[1;36m\u001b[0m\n\u001b[1;33m    nombre completo = nombre + apellido\u001b[0m\n\u001b[1;37m           ^\u001b[0m\n\u001b[1;31mSyntaxError\u001b[0m\u001b[1;31m:\u001b[0m invalid syntax\n"
     ]
    }
   ],
   "source": [
    "nombre completo = nombre + apellido"
   ]
  },
  {
   "cell_type": "code",
   "execution_count": 16,
   "id": "08dbdd85",
   "metadata": {},
   "outputs": [],
   "source": [
    "nombre_completo = nombre + \" \" + apellido"
   ]
  },
  {
   "cell_type": "code",
   "execution_count": 17,
   "id": "79eaf1e7",
   "metadata": {},
   "outputs": [
    {
     "data": {
      "text/plain": [
       "'edson Alvarado'"
      ]
     },
     "execution_count": 17,
     "metadata": {},
     "output_type": "execute_result"
    }
   ],
   "source": [
    "nombre_completo"
   ]
  },
  {
   "cell_type": "code",
   "execution_count": 19,
   "id": "c476965b",
   "metadata": {},
   "outputs": [],
   "source": [
    "numero = 50"
   ]
  },
  {
   "cell_type": "code",
   "execution_count": 20,
   "id": "8762a8da",
   "metadata": {},
   "outputs": [
    {
     "ename": "AttributeError",
     "evalue": "type object 'type' has no attribute 'numero'",
     "output_type": "error",
     "traceback": [
      "\u001b[1;31m---------------------------------------------------------------------------\u001b[0m",
      "\u001b[1;31mAttributeError\u001b[0m                            Traceback (most recent call last)",
      "Input \u001b[1;32mIn [20]\u001b[0m, in \u001b[0;36m<cell line: 1>\u001b[1;34m()\u001b[0m\n\u001b[1;32m----> 1\u001b[0m \u001b[38;5;28;43mtype\u001b[39;49m\u001b[38;5;241;43m.\u001b[39;49m\u001b[43mnumero\u001b[49m\n",
      "\u001b[1;31mAttributeError\u001b[0m: type object 'type' has no attribute 'numero'"
     ]
    }
   ],
   "source": [
    "type.numero"
   ]
  },
  {
   "cell_type": "code",
   "execution_count": 21,
   "id": "7d00ee06",
   "metadata": {},
   "outputs": [
    {
     "data": {
      "text/plain": [
       "int"
      ]
     },
     "execution_count": 21,
     "metadata": {},
     "output_type": "execute_result"
    }
   ],
   "source": [
    "type(numero)"
   ]
  },
  {
   "cell_type": "code",
   "execution_count": 22,
   "id": "1286cb70",
   "metadata": {},
   "outputs": [],
   "source": [
    "talla = 1.78"
   ]
  },
  {
   "cell_type": "code",
   "execution_count": 23,
   "id": "5d678762",
   "metadata": {},
   "outputs": [
    {
     "data": {
      "text/plain": [
       "1.78"
      ]
     },
     "execution_count": 23,
     "metadata": {},
     "output_type": "execute_result"
    }
   ],
   "source": [
    "talla\n"
   ]
  },
  {
   "cell_type": "code",
   "execution_count": 24,
   "id": "dc507008",
   "metadata": {},
   "outputs": [
    {
     "data": {
      "text/plain": [
       "float"
      ]
     },
     "execution_count": 24,
     "metadata": {},
     "output_type": "execute_result"
    }
   ],
   "source": [
    "type(talla)"
   ]
  },
  {
   "cell_type": "code",
   "execution_count": 25,
   "id": "0456c75c",
   "metadata": {},
   "outputs": [],
   "source": [
    "talla = str(talla)"
   ]
  },
  {
   "cell_type": "code",
   "execution_count": 26,
   "id": "6cc57cb6",
   "metadata": {},
   "outputs": [
    {
     "data": {
      "text/plain": [
       "str"
      ]
     },
     "execution_count": 26,
     "metadata": {},
     "output_type": "execute_result"
    }
   ],
   "source": [
    "type(talla)"
   ]
  },
  {
   "cell_type": "code",
   "execution_count": 29,
   "id": "077f23cc",
   "metadata": {},
   "outputs": [
    {
     "data": {
      "text/plain": [
       "'1.78'"
      ]
     },
     "execution_count": 29,
     "metadata": {},
     "output_type": "execute_result"
    }
   ],
   "source": [
    "talla"
   ]
  },
  {
   "cell_type": "code",
   "execution_count": 32,
   "id": "9a236023",
   "metadata": {},
   "outputs": [
    {
     "data": {
      "text/plain": [
       "str"
      ]
     },
     "execution_count": 32,
     "metadata": {},
     "output_type": "execute_result"
    }
   ],
   "source": [
    "type(talla)"
   ]
  },
  {
   "cell_type": "code",
   "execution_count": 33,
   "id": "ba4fe36d",
   "metadata": {},
   "outputs": [],
   "source": [
    "talla = float(talla)"
   ]
  },
  {
   "cell_type": "code",
   "execution_count": 34,
   "id": "532b6a3a",
   "metadata": {},
   "outputs": [
    {
     "data": {
      "text/plain": [
       "1.78"
      ]
     },
     "execution_count": 34,
     "metadata": {},
     "output_type": "execute_result"
    }
   ],
   "source": [
    "talla"
   ]
  },
  {
   "cell_type": "code",
   "execution_count": null,
   "id": "12e1d0d9",
   "metadata": {},
   "outputs": [],
   "source": []
  }
 ],
 "metadata": {
  "kernelspec": {
   "display_name": "Python 3 (ipykernel)",
   "language": "python",
   "name": "python3"
  },
  "language_info": {
   "codemirror_mode": {
    "name": "ipython",
    "version": 3
   },
   "file_extension": ".py",
   "mimetype": "text/x-python",
   "name": "python",
   "nbconvert_exporter": "python",
   "pygments_lexer": "ipython3",
   "version": "3.9.12"
  }
 },
 "nbformat": 4,
 "nbformat_minor": 5
}
